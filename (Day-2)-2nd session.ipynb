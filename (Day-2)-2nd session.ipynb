{
 "cells": [
  {
   "cell_type": "markdown",
   "metadata": {},
   "source": [
    "### Deep Learning with Logistic Regression"
   ]
  },
  {
   "cell_type": "code",
   "execution_count": 1,
   "metadata": {},
   "outputs": [],
   "source": [
    "# This Python 3 environment comes with many helpful analytics libraries installed\n",
    "# It is defined by the kaggle/python docker image: https://github.com/kaggle/docker-python\n",
    "# For example, here's several helpful packages to load in \n",
    "\n",
    "import numpy as np # linear algebra\n",
    "import pandas as pd # data processing, CSV file I/O (e.g. pd.read_csv)\n",
    "import matplotlib.pyplot as plt\n",
    "# Input data files are available in the \"../input/\" directory.\n",
    "# For example, running this (by clicking run or pressing Shift+Enter) will list the files in the input directory\n",
    "import warnings \n",
    "warnings.filterwarnings('ignore')"
   ]
  },
  {
   "cell_type": "code",
   "execution_count": 4,
   "metadata": {},
   "outputs": [
    {
     "data": {
      "text/plain": [
       "<matplotlib.image.AxesImage at 0x3c787cdfd0>"
      ]
     },
     "execution_count": 4,
     "metadata": {},
     "output_type": "execute_result"
    },
    {
     "data": {
      "image/png": "[encoded data removed]",
      "text/plain": [
       "<Figure size 432x288 with 2 Axes>"
      ]
     },
     "metadata": {
      "needs_background": "light"
     },
     "output_type": "display_data"
    }
   ],
   "source": [
    "import numpy as np\n",
    "\n",
    "x_1 = np.load('C:/Users/Admin/Desktop/X.npy')\n",
    "y_1 = np.load('C:/Users/Admin/Desktop/Y.npy')\n",
    "img_size = 64 # our pixel size.\n",
    "\n",
    "plt.subplot(1,2,1)   # subplot : sign zero\n",
    "plt.imshow(x_1[205]) # show image at specified index number\n",
    "plt.axis('off')      # don't show the axis of sign zero\n",
    "plt.subplot(1,2,2)   # subplot : sign one\n",
    "plt.imshow(x_1[822]) # I didn't remove the axis since we can see sizes of our image."
   ]
  },
  {
   "cell_type": "code",
   "execution_count": 5,
   "metadata": {},
   "outputs": [
    {
     "name": "stdout",
     "output_type": "stream",
     "text": [
      "x shape: (410, 64, 64)\n",
      "y shape: (410, 1)\n"
     ]
    }
   ],
   "source": [
    "x = np.concatenate((x_1[204:409], x_1[822:1027]), axis=0) # concatenate two array along axis 0 (horizontally)\n",
    "\n",
    "# Now we create an appropriate array for outputs consisting zeros & ones.\n",
    "z = np.zeros(205)\n",
    "o = np.ones(205)\n",
    "y = np.concatenate((z,o), axis=0).reshape(x.shape[0], 1) # concatenate 'z' & 'o' and make it a 2D array\n",
    "                                                         # (first it was a 1D array with shape (410, ) )\n",
    "\n",
    "# let's see the shapes of input and output\n",
    "print('x shape: {}'.format(x.shape))\n",
    "print('y shape: {}'.format(y.shape))"
   ]
  },
  {
   "cell_type": "code",
   "execution_count": 7,
   "metadata": {},
   "outputs": [
    {
     "name": "stdout",
     "output_type": "stream",
     "text": [
      "(369, 64, 64)\n"
     ]
    }
   ],
   "source": [
    "from sklearn.model_selection import train_test_split\n",
    "x_train, x_test, y_train, y_test = train_test_split(x, y, test_size = 0.1, random_state = 42)\n",
    "print(x_train.shape)"
   ]
  },
  {
   "cell_type": "code",
   "execution_count": 9,
   "metadata": {},
   "outputs": [
    {
     "data": {
      "text/plain": [
       "41"
      ]
     },
     "execution_count": 9,
     "metadata": {},
     "output_type": "execute_result"
    }
   ],
   "source": [
    "x_test.shape[0]"
   ]
  },
  {
   "cell_type": "code",
   "execution_count": 8,
   "metadata": {},
   "outputs": [
    {
     "name": "stdout",
     "output_type": "stream",
     "text": [
      "x_train new : (369, 4096)\n",
      "x_test_new : (41, 4096)\n"
     ]
    }
   ],
   "source": [
    "x_train_new = x_train.reshape(x_train.shape[0], x_train.shape[1] * x_train.shape[2])\n",
    "x_test_new = x_test.reshape(x_test.shape[0], x_test.shape[1] * x_test.shape[2])\n",
    "\n",
    "print('x_train new : {}\\nx_test_new : {}'.format(x_train_new.shape, x_test_new.shape))"
   ]
  },
  {
   "cell_type": "code",
   "execution_count": 10,
   "metadata": {},
   "outputs": [
    {
     "name": "stdout",
     "output_type": "stream",
     "text": [
      "x train:  (4096, 369)\n",
      "x test:  (4096, 41)\n",
      "y train:  (1, 369)\n",
      "y test:  (1, 41)\n"
     ]
    }
   ],
   "source": [
    "x_train = x_train_new.T\n",
    "x_test = x_test_new.T\n",
    "y_train = y_train.T\n",
    "y_test = y_test.T\n",
    "print(\"x train: \",x_train.shape)\n",
    "print(\"x test: \",x_test.shape)\n",
    "print(\"y train: \",y_train.shape)\n",
    "print(\"y test: \",y_test.shape)"
   ]
  },
  {
   "cell_type": "markdown",
   "metadata": {},
   "source": [
    "### Initializing Parameters \"w\" & \"b\""
   ]
  },
  {
   "cell_type": "code",
   "execution_count": 23,
   "metadata": {},
   "outputs": [],
   "source": [
    "def initialize_params(dimension):\n",
    "    w = np.full((dimension, 1), 0.01) # first value of weights are 0.01\n",
    "    b = 0                             # first value of bias is zero\n",
    "    return w, b                       # return the necessary values that'll be used later in order to finish functions everytime\n",
    "\n",
    "def sigmoid(z):\n",
    "    y_head = 1/ (1+ np.exp(-z))\n",
    "    return y_head"
   ]
  },
  {
   "cell_type": "code",
   "execution_count": 24,
   "metadata": {},
   "outputs": [],
   "source": [
    "# Forward & Backward Propagation\n",
    "def forward_backward_propagation(w, b, x_train, y_train):\n",
    "    # Forward Propagation\n",
    "    z = np.dot(w.T, x_train) + b                                     # z function consisting parameters w, b \n",
    "    y_head = sigmoid(z)                                              # get the probability through sigmoid fucntion\n",
    "    loss = -(1 - y_train)*np.log(1 - y_head) - y_train*np.log(y_head)# the formula of loss function\n",
    "    cost = (np.sum(loss)) / (x_train.shape[1])                       # cost function : sum of the loss function of every image\n",
    "    \n",
    "    # Backward Propagation\n",
    "    derivative_weight = (np.dot(x_train,((y_head-y_train).T)))/x_train.shape[1] # derivative of cost function with respect to 'w'\n",
    "    derivative_bias = np.sum(y_head-y_train) / x_train.shape[1]                 # derivative of cost function with respect to 'b'\n",
    "    gradients = {\"derivative_weight\": derivative_weight,\"derivative_bias\": derivative_bias} # creating a dictionary to store w & b values\n",
    "    \n",
    "    return cost,gradients   # return cost and gradients which will be used later"
   ]
  },
  {
   "cell_type": "code",
   "execution_count": 25,
   "metadata": {},
   "outputs": [],
   "source": [
    "# Updating Parameters\n",
    "def update(w, b, x_train, y_train, learning_rate, number_of_iterarion):\n",
    "\n",
    "    costs = [] # that'll be used for visualizate cost with respect to iteration count\n",
    "    index = [] # same here as one row above\n",
    "\n",
    "    for i in range(number_of_iterarion):    # do it as iteration count\n",
    "        cost,gradients = forward_backward_propagation(w,b,x_train,y_train)  # return updated cost and gradients every iteration by calling function.\n",
    "     \n",
    "        w = w - learning_rate * gradients[\"derivative_weight\"]              # update weights\n",
    "        b = b - learning_rate * gradients[\"derivative_bias\"]                # update bias\n",
    "        if i%10 == 0:                                            # in every ten iterations\n",
    "            costs.append(cost)                                   # store cost in list(costs)\n",
    "            index.append(i)                                      # store iteration number in the list : index\n",
    "            print (\"cost at iteration {} : {}\".format(i, cost))\n",
    "    \n",
    "    parameters = {\"w\": w,\"b\": b}  # most optimized weights & bias is stored in 'parameters' dictionary\n",
    "    plt.plot(index,costs)         # plotting index vs costs\n",
    "    plt.xticks(index,rotation='vertical')\n",
    "    plt.xlabel(\"Number of Iterarion\")\n",
    "    plt.ylabel(\"Cost\")\n",
    "    plt.show()\n",
    "    return parameters # return parameters which will be used later"
   ]
  },
  {
   "cell_type": "code",
   "execution_count": 26,
   "metadata": {},
   "outputs": [],
   "source": [
    "# Predicting with Test Data\n",
    "def predict(w,b,x_test):\n",
    "    z = sigmoid(np.dot(w.T, x_test) + b)   # new \"y_head\" function full of probabilistic values of x_test data\n",
    "    y_pred = np.zeros((1,x_test.shape[1])) # form a matrix full of zeros so as to change later\n",
    "    for i in range(x_test.shape[1]):       # for every values of \"y_head\"\n",
    "        if z[0,i] <= 0.5:                  # if y_head <= 0.5 which is our threshold,\n",
    "            y_pred[0,i] = 0                # then predict it as sign zero.\n",
    "        else:\n",
    "            y_pred[0,i] = 1                # else if it's greater than 0.5, then let it be sign one.\n",
    "\n",
    "    return y_pred                          # return the matrix of predicted values y_pred"
   ]
  },
  {
   "cell_type": "code",
   "execution_count": 32,
   "metadata": {},
   "outputs": [
    {
     "name": "stdout",
     "output_type": "stream",
     "text": [
      "cost at iteration 0 : 14.077381712973677\n",
      "cost at iteration 10 : 4.562699761826228\n",
      "cost at iteration 20 : 3.216395535886636\n",
      "cost at iteration 30 : 2.234144076841376\n",
      "cost at iteration 40 : 2.1463708695229835\n",
      "cost at iteration 50 : 2.2812316330752007\n",
      "cost at iteration 60 : 2.424470522347554\n",
      "cost at iteration 70 : 2.4679615876359753\n",
      "cost at iteration 80 : 2.300635751776266\n",
      "cost at iteration 90 : 1.9713694600652856\n",
      "cost at iteration 100 : 1.3558041700705545\n",
      "cost at iteration 110 : 0.3694444469535924\n",
      "cost at iteration 120 : 0.19467876354910016\n",
      "cost at iteration 130 : 0.18319964420637663\n",
      "cost at iteration 140 : 0.17371114681861954\n"
     ]
    },
    {
     "data": {
      "image/png": "[encoded data removed]",
      "text/plain": [
       "<Figure size 432x288 with 1 Axes>"
      ]
     },
     "metadata": {
      "needs_background": "light"
     },
     "output_type": "display_data"
    },
    {
     "name": "stdout",
     "output_type": "stream",
     "text": [
      "train accuracy: 92.6829268292683\n",
      "test accuracy:  95.1219512195122\n"
     ]
    }
   ],
   "source": [
    "def logistic_regression(x_train, y_train, x_test, y_test, learning_rate, iterations):\n",
    "    \n",
    "    dimension =  x_train.shape[0]      # set the dimension on the same value as images\n",
    "    w,b = initialize_params(dimension) # return w & b\n",
    "\n",
    "    parameters = update(w, b, x_train, y_train, learning_rate, iterations)  # forward & backward propagation : return brand new updated params\n",
    "    \n",
    "    y_pred_test  = predict(parameters[\"w\"],parameters[\"b\"], x_test)  # overfit check if it occured an overfitting situation, then the accuracy of-\n",
    "    y_pred_train = predict(parameters[\"w\"],parameters[\"b\"], x_train) # test values would be significantly low as opposed to accuracy of train values.      \n",
    "\n",
    "    print(\"train accuracy: {}\".format(100 - np.mean(np.abs(y_pred_train - y_train)) * 100)) # train accuracy\n",
    "    print(\"test accuracy:  {}\".format(100 - np.mean(np.abs(y_pred_test - y_test)) * 100))   # test acuracy - no overfitting or underfitting\n",
    "    \n",
    "logistic_regression(x_train, y_train, x_test, y_test, learning_rate = 0.02, iterations = 150) # perform logistic regression classification"
   ]
  },
  {
   "cell_type": "markdown",
   "metadata": {},
   "source": [
    "### LOGISTIC REGRESSION WITH SCIKIT-LEARN"
   ]
  },
  {
   "cell_type": "code",
   "execution_count": 28,
   "metadata": {},
   "outputs": [
    {
     "name": "stderr",
     "output_type": "stream",
     "text": [
      "C:\\Users\\Admin\\Anaconda3\\lib\\site-packages\\sklearn\\model_selection\\_search.py:813: DeprecationWarning: The default of the `iid` parameter will change from True to False in version 0.22 and will be removed in 0.24. This will change numeric results when test-set sizes are unequal.\n",
      "  DeprecationWarning)\n"
     ]
    },
    {
     "name": "stdout",
     "output_type": "stream",
     "text": [
      "tuned hyperparameters : {'C': 1000.0, 'penalty': 'l1'}\n",
      "best score: 0.981029810298103\n"
     ]
    }
   ],
   "source": [
    "# Grid Search\n",
    "\n",
    "from sklearn.model_selection import GridSearchCV    # import Grid Search Cross Validation to find optimujm parameters\n",
    "from sklearn.linear_model import LogisticRegression # import Logistic Regression\n",
    "lr = LogisticRegression()  \n",
    "\n",
    "parameters = {'C':np.logspace(-5,5,11), 'penalty':['l1', 'l2']} # create a dictionary  within Logistic Regression parameters inside\n",
    "lr_cv = GridSearchCV(lr, parameters, cv = 10)                   # method, parameters of that method, count of Cross Validation.\n",
    "lr_cv.fit(x_train.T, y_train.T)                                 # fit the model for our values\n",
    "\n",
    "print('tuned hyperparameters : {}'.format(lr_cv.best_params_))  # Now we'll se best parameters among the \"parameters\"\n",
    "print('best score: {}'.format(lr_cv.best_score_))               # Best score of the Logistic Regression with best parameters"
   ]
  },
  {
   "cell_type": "code",
   "execution_count": 29,
   "metadata": {},
   "outputs": [
    {
     "name": "stdout",
     "output_type": "stream",
     "text": [
      "score for test values: 0.9512195121951219\n"
     ]
    }
   ],
   "source": [
    "# Logistic Regression\n",
    "\n",
    "lr2 = LogisticRegression(C=1.0, penalty = 'l2') # Use the parameters within Logistic Regression\n",
    "lr2.fit(x_train.T, y_train.T)                   # fit the model for our train values\n",
    "\n",
    "print('score for test values: {}'.format(lr2.score(x_test.T, y_test.T))) # test score"
   ]
  }
 ],
 "metadata": {
  "kernelspec": {
   "display_name": "Python 3",
   "language": "python",
   "name": "python3"
  },
  "language_info": {
   "codemirror_mode": {
    "name": "ipython",
    "version": 3
   },
   "file_extension": ".py",
   "mimetype": "text/x-python",
   "name": "python",
   "nbconvert_exporter": "python",
   "pygments_lexer": "ipython3",
   "version": "3.7.3"
  }
 },
 "nbformat": 4,
 "nbformat_minor": 2
}
